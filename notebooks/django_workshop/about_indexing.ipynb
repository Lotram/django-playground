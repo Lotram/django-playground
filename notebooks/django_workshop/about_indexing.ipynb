{
 "cells": [
  {
   "attachments": {},
   "cell_type": "markdown",
   "metadata": {},
   "source": [
    "Same setup as before"
   ]
  },
  {
   "cell_type": "code",
   "execution_count": 1,
   "metadata": {},
   "outputs": [],
   "source": [
    "import os\n",
    "os.chdir(\"../..\")\n",
    "import django_init\n"
   ]
  },
  {
   "cell_type": "code",
   "execution_count": 2,
   "metadata": {},
   "outputs": [],
   "source": [
    "# For better printing\n",
    "\n",
    "from rich import print\n",
    "from rich.console import Console\n",
    "from rich.markdown import Markdown\n",
    "\n",
    "console = Console()"
   ]
  },
  {
   "cell_type": "code",
   "execution_count": 3,
   "metadata": {},
   "outputs": [],
   "source": [
    "from utils.perf_display import format_duration, perf_counter"
   ]
  },
  {
   "cell_type": "code",
   "execution_count": 4,
   "metadata": {},
   "outputs": [],
   "source": [
    "from books.models import Library, Review, Book\n",
    "from django.db.models import Count\n",
    "\n",
    "medium = Library.objects.order_by(\"-id\").first()\n",
    "medium_id = medium.id\n",
    "\n",
    "# Get the library with the most books\n",
    "alexandria_id, book_count = (\n",
    "    Book.objects.values(\"library_id\")\n",
    "    .annotate(book_count=Count(\"id\"))\n",
    "    .order_by(\"-book_count\")\n",
    "    .values_list(\"library_id\", \"book_count\")\n",
    "    .first()\n",
    ")\n",
    "\n",
    "alexandria = Library.objects.get(id=alexandria_id)"
   ]
  },
  {
   "attachments": {},
   "cell_type": "markdown",
   "metadata": {},
   "source": [
    "## 2nd exercice\n",
    "Let's continue with another usual example. \n",
    "We want to implement a standard endpoint returning a page of filtered and ordered reviews.\n",
    "A minimal implementation is available in [this file](\"../../../../books/views/review/simple.py). "
   ]
  },
  {
   "cell_type": "code",
   "execution_count": 5,
   "metadata": {},
   "outputs": [
    {
     "name": "stdout",
     "output_type": "stream",
     "text": [
      "CPU times: user 53.9 ms, sys: 7.69 ms, total: 61.6 ms\n",
      "Wall time: 82.4 ms\n"
     ]
    },
    {
     "name": "stderr",
     "output_type": "stream",
     "text": [
      "/home/laurent/.local/share/virtualenvs/django-perfs-playground-tFy-cSse/lib/python3.10/site-packages/rest_framework/pagination.py:200: UnorderedObjectListWarning: Pagination may yield inconsistent results with an unordered object_list: <class 'books.models.review.Review'> QuerySet.\n",
      "  paginator = self.django_paginator_class(queryset, page_size)\n"
     ]
    }
   ],
   "source": [
    "# Let's try the existing endpoint\n",
    "from rest_framework.test import APIClient\n",
    "client = APIClient()\n",
    "%time result = client.get(f\"/reviews/{alexandria_id}/simple\")\n"
   ]
  },
  {
   "cell_type": "code",
   "execution_count": 6,
   "metadata": {},
   "outputs": [],
   "source": [
    "result = client.get(f\"/reviews/{alexandria_id}/ordered?ordering=-wrote_at\")"
   ]
  },
  {
   "cell_type": "code",
   "execution_count": 7,
   "metadata": {},
   "outputs": [],
   "source": [
    "result = client.get(f\"/reviews/{alexandria_id}/ordered?ordering=id\")"
   ]
  },
  {
   "cell_type": "code",
   "execution_count": 8,
   "metadata": {},
   "outputs": [
    {
     "data": {
      "text/html": [
       "<pre style=\"white-space:pre;overflow-x:auto;line-height:normal;font-family:Menlo,'DejaVu Sans Mono',consolas,'Courier New',monospace\"><span style=\"font-style: italic\">                                          Endpoint benchmark                                          </span>\n",
       "┏━━━━━━━━━━━━━━━━━━━━━━━━┳━━━━━━━━━━━━━━━━━━━━━━━━━━━┳━━━━━━━━━┳━━━━━━━━━━━━━━━┳━━━━━━━━━━━━━━┳━━━━━━┓\n",
       "┃<span style=\"font-weight: bold\"> endpoint URL           </span>┃<span style=\"font-weight: bold\"> Query params              </span>┃<span style=\"font-weight: bold\"> Library </span>┃<span style=\"font-weight: bold\"> Mean duration </span>┃<span style=\"font-weight: bold\"> Max duration </span>┃<span style=\"font-weight: bold\"> Runs </span>┃\n",
       "┡━━━━━━━━━━━━━━━━━━━━━━━━╇━━━━━━━━━━━━━━━━━━━━━━━━━━━╇━━━━━━━━━╇━━━━━━━━━━━━━━━╇━━━━━━━━━━━━━━╇━━━━━━┩\n",
       "│ /reviews/10015/simple  │                           │ 10015   │<span style=\"color: #008080; text-decoration-color: #008080; font-weight: bold\"> 0.018 s       </span>│<span style=\"color: #008000; text-decoration-color: #008000; font-weight: bold\"> 0.018 s      </span>│ 1    │\n",
       "├────────────────────────┼───────────────────────────┼─────────┼───────────────┼──────────────┼──────┤\n",
       "│ /reviews/6/simple      │                           │ 6       │<span style=\"color: #008080; text-decoration-color: #008080; font-weight: bold\"> 0.016 s       </span>│<span style=\"color: #008000; text-decoration-color: #008000; font-weight: bold\"> 0.016 s      </span>│ 1    │\n",
       "├────────────────────────┼───────────────────────────┼─────────┼───────────────┼──────────────┼──────┤\n",
       "│ /reviews/10015/ordered │ ordering=id               │ 10015   │<span style=\"color: #008080; text-decoration-color: #008080; font-weight: bold\"> 0.497 s       </span>│<span style=\"color: #008000; text-decoration-color: #008000; font-weight: bold\"> 0.497 s      </span>│ 1    │\n",
       "├────────────────────────┼───────────────────────────┼─────────┼───────────────┼──────────────┼──────┤\n",
       "│ /reviews/6/ordered     │ ordering=id               │ 6       │<span style=\"color: #008080; text-decoration-color: #008080; font-weight: bold\"> 0.022 s       </span>│<span style=\"color: #008000; text-decoration-color: #008000; font-weight: bold\"> 0.022 s      </span>│ 1    │\n",
       "├────────────────────────┼───────────────────────────┼─────────┼───────────────┼──────────────┼──────┤\n",
       "│ /reviews/10015/ordered │ ordering=wrote_at         │ 10015   │<span style=\"color: #008080; text-decoration-color: #008080; font-weight: bold\"> 0.199 s       </span>│<span style=\"color: #008000; text-decoration-color: #008000; font-weight: bold\"> 0.199 s      </span>│ 1    │\n",
       "├────────────────────────┼───────────────────────────┼─────────┼───────────────┼──────────────┼──────┤\n",
       "│ /reviews/6/ordered     │ ordering=wrote_at         │ 6       │<span style=\"color: #008080; text-decoration-color: #008080; font-weight: bold\"> 8.254 s       </span>│<span style=\"color: #008000; text-decoration-color: #008000; font-weight: bold\"> 8.254 s      </span>│ 1    │\n",
       "├────────────────────────┼───────────────────────────┼─────────┼───────────────┼──────────────┼──────┤\n",
       "│ /reviews/10015/ordered │ ordering=rating           │ 10015   │<span style=\"color: #008080; text-decoration-color: #008080; font-weight: bold\"> 0.193 s       </span>│<span style=\"color: #008000; text-decoration-color: #008000; font-weight: bold\"> 0.193 s      </span>│ 1    │\n",
       "├────────────────────────┼───────────────────────────┼─────────┼───────────────┼──────────────┼──────┤\n",
       "│ /reviews/6/ordered     │ ordering=rating           │ 6       │<span style=\"color: #008080; text-decoration-color: #008080; font-weight: bold\"> 4.018 s       </span>│<span style=\"color: #008000; text-decoration-color: #008000; font-weight: bold\"> 4.018 s      </span>│ 1    │\n",
       "├────────────────────────┼───────────────────────────┼─────────┼───────────────┼──────────────┼──────┤\n",
       "│ /reviews/10015/ordered │ ordering=-id              │ 10015   │<span style=\"color: #008080; text-decoration-color: #008080; font-weight: bold\"> 0.125 s       </span>│<span style=\"color: #008000; text-decoration-color: #008000; font-weight: bold\"> 0.125 s      </span>│ 1    │\n",
       "├────────────────────────┼───────────────────────────┼─────────┼───────────────┼──────────────┼──────┤\n",
       "│ /reviews/6/ordered     │ ordering=-id              │ 6       │<span style=\"color: #008080; text-decoration-color: #008080; font-weight: bold\"> 50.224 s      </span>│<span style=\"color: #008000; text-decoration-color: #008000; font-weight: bold\"> 50.224 s     </span>│ 1    │\n",
       "├────────────────────────┼───────────────────────────┼─────────┼───────────────┼──────────────┼──────┤\n",
       "│ /reviews/10015/ordered │ ordering=-wrote_at        │ 10015   │<span style=\"color: #008080; text-decoration-color: #008080; font-weight: bold\"> 0.391 s       </span>│<span style=\"color: #008000; text-decoration-color: #008000; font-weight: bold\"> 0.391 s      </span>│ 1    │\n",
       "├────────────────────────┼───────────────────────────┼─────────┼───────────────┼──────────────┼──────┤\n",
       "│ /reviews/6/ordered     │ ordering=-wrote_at        │ 6       │<span style=\"color: #008080; text-decoration-color: #008080; font-weight: bold\"> 6.472 s       </span>│<span style=\"color: #008000; text-decoration-color: #008000; font-weight: bold\"> 6.472 s      </span>│ 1    │\n",
       "├────────────────────────┼───────────────────────────┼─────────┼───────────────┼──────────────┼──────┤\n",
       "│ /reviews/10015/ordered │ ordering=-rating          │ 10015   │<span style=\"color: #008080; text-decoration-color: #008080; font-weight: bold\"> 0.120 s       </span>│<span style=\"color: #008000; text-decoration-color: #008000; font-weight: bold\"> 0.120 s      </span>│ 1    │\n",
       "├────────────────────────┼───────────────────────────┼─────────┼───────────────┼──────────────┼──────┤\n",
       "│ /reviews/6/ordered     │ ordering=-rating          │ 6       │<span style=\"color: #008080; text-decoration-color: #008080; font-weight: bold\"> 2.687 s       </span>│<span style=\"color: #008000; text-decoration-color: #008000; font-weight: bold\"> 2.687 s      </span>│ 1    │\n",
       "├────────────────────────┼───────────────────────────┼─────────┼───────────────┼──────────────┼──────┤\n",
       "│ /reviews/10015/ordered │ ordering=-wrote_at,rating │ 10015   │<span style=\"color: #008080; text-decoration-color: #008080; font-weight: bold\"> 0.152 s       </span>│<span style=\"color: #008000; text-decoration-color: #008000; font-weight: bold\"> 0.152 s      </span>│ 1    │\n",
       "├────────────────────────┼───────────────────────────┼─────────┼───────────────┼──────────────┼──────┤\n",
       "│ /reviews/6/ordered     │ ordering=-wrote_at,rating │ 6       │<span style=\"color: #008080; text-decoration-color: #008080; font-weight: bold\"> 2.659 s       </span>│<span style=\"color: #008000; text-decoration-color: #008000; font-weight: bold\"> 2.659 s      </span>│ 1    │\n",
       "└────────────────────────┴───────────────────────────┴─────────┴───────────────┴──────────────┴──────┘\n",
       "</pre>\n"
      ],
      "text/plain": [
       "\u001b[3m                                          Endpoint benchmark                                          \u001b[0m\n",
       "┏━━━━━━━━━━━━━━━━━━━━━━━━┳━━━━━━━━━━━━━━━━━━━━━━━━━━━┳━━━━━━━━━┳━━━━━━━━━━━━━━━┳━━━━━━━━━━━━━━┳━━━━━━┓\n",
       "┃\u001b[1m \u001b[0m\u001b[1mendpoint URL          \u001b[0m\u001b[1m \u001b[0m┃\u001b[1m \u001b[0m\u001b[1mQuery params             \u001b[0m\u001b[1m \u001b[0m┃\u001b[1m \u001b[0m\u001b[1mLibrary\u001b[0m\u001b[1m \u001b[0m┃\u001b[1m \u001b[0m\u001b[1mMean duration\u001b[0m\u001b[1m \u001b[0m┃\u001b[1m \u001b[0m\u001b[1mMax duration\u001b[0m\u001b[1m \u001b[0m┃\u001b[1m \u001b[0m\u001b[1mRuns\u001b[0m\u001b[1m \u001b[0m┃\n",
       "┡━━━━━━━━━━━━━━━━━━━━━━━━╇━━━━━━━━━━━━━━━━━━━━━━━━━━━╇━━━━━━━━━╇━━━━━━━━━━━━━━━╇━━━━━━━━━━━━━━╇━━━━━━┩\n",
       "│ /reviews/10015/simple  │                           │ 10015   │\u001b[1;36m \u001b[0m\u001b[1;36m0.018 s      \u001b[0m\u001b[1;36m \u001b[0m│\u001b[1;32m \u001b[0m\u001b[1;32m0.018 s     \u001b[0m\u001b[1;32m \u001b[0m│ 1    │\n",
       "├────────────────────────┼───────────────────────────┼─────────┼───────────────┼──────────────┼──────┤\n",
       "│ /reviews/6/simple      │                           │ 6       │\u001b[1;36m \u001b[0m\u001b[1;36m0.016 s      \u001b[0m\u001b[1;36m \u001b[0m│\u001b[1;32m \u001b[0m\u001b[1;32m0.016 s     \u001b[0m\u001b[1;32m \u001b[0m│ 1    │\n",
       "├────────────────────────┼───────────────────────────┼─────────┼───────────────┼──────────────┼──────┤\n",
       "│ /reviews/10015/ordered │ ordering=id               │ 10015   │\u001b[1;36m \u001b[0m\u001b[1;36m0.497 s      \u001b[0m\u001b[1;36m \u001b[0m│\u001b[1;32m \u001b[0m\u001b[1;32m0.497 s     \u001b[0m\u001b[1;32m \u001b[0m│ 1    │\n",
       "├────────────────────────┼───────────────────────────┼─────────┼───────────────┼──────────────┼──────┤\n",
       "│ /reviews/6/ordered     │ ordering=id               │ 6       │\u001b[1;36m \u001b[0m\u001b[1;36m0.022 s      \u001b[0m\u001b[1;36m \u001b[0m│\u001b[1;32m \u001b[0m\u001b[1;32m0.022 s     \u001b[0m\u001b[1;32m \u001b[0m│ 1    │\n",
       "├────────────────────────┼───────────────────────────┼─────────┼───────────────┼──────────────┼──────┤\n",
       "│ /reviews/10015/ordered │ ordering=wrote_at         │ 10015   │\u001b[1;36m \u001b[0m\u001b[1;36m0.199 s      \u001b[0m\u001b[1;36m \u001b[0m│\u001b[1;32m \u001b[0m\u001b[1;32m0.199 s     \u001b[0m\u001b[1;32m \u001b[0m│ 1    │\n",
       "├────────────────────────┼───────────────────────────┼─────────┼───────────────┼──────────────┼──────┤\n",
       "│ /reviews/6/ordered     │ ordering=wrote_at         │ 6       │\u001b[1;36m \u001b[0m\u001b[1;36m8.254 s      \u001b[0m\u001b[1;36m \u001b[0m│\u001b[1;32m \u001b[0m\u001b[1;32m8.254 s     \u001b[0m\u001b[1;32m \u001b[0m│ 1    │\n",
       "├────────────────────────┼───────────────────────────┼─────────┼───────────────┼──────────────┼──────┤\n",
       "│ /reviews/10015/ordered │ ordering=rating           │ 10015   │\u001b[1;36m \u001b[0m\u001b[1;36m0.193 s      \u001b[0m\u001b[1;36m \u001b[0m│\u001b[1;32m \u001b[0m\u001b[1;32m0.193 s     \u001b[0m\u001b[1;32m \u001b[0m│ 1    │\n",
       "├────────────────────────┼───────────────────────────┼─────────┼───────────────┼──────────────┼──────┤\n",
       "│ /reviews/6/ordered     │ ordering=rating           │ 6       │\u001b[1;36m \u001b[0m\u001b[1;36m4.018 s      \u001b[0m\u001b[1;36m \u001b[0m│\u001b[1;32m \u001b[0m\u001b[1;32m4.018 s     \u001b[0m\u001b[1;32m \u001b[0m│ 1    │\n",
       "├────────────────────────┼───────────────────────────┼─────────┼───────────────┼──────────────┼──────┤\n",
       "│ /reviews/10015/ordered │ ordering=-id              │ 10015   │\u001b[1;36m \u001b[0m\u001b[1;36m0.125 s      \u001b[0m\u001b[1;36m \u001b[0m│\u001b[1;32m \u001b[0m\u001b[1;32m0.125 s     \u001b[0m\u001b[1;32m \u001b[0m│ 1    │\n",
       "├────────────────────────┼───────────────────────────┼─────────┼───────────────┼──────────────┼──────┤\n",
       "│ /reviews/6/ordered     │ ordering=-id              │ 6       │\u001b[1;36m \u001b[0m\u001b[1;36m50.224 s     \u001b[0m\u001b[1;36m \u001b[0m│\u001b[1;32m \u001b[0m\u001b[1;32m50.224 s    \u001b[0m\u001b[1;32m \u001b[0m│ 1    │\n",
       "├────────────────────────┼───────────────────────────┼─────────┼───────────────┼──────────────┼──────┤\n",
       "│ /reviews/10015/ordered │ ordering=-wrote_at        │ 10015   │\u001b[1;36m \u001b[0m\u001b[1;36m0.391 s      \u001b[0m\u001b[1;36m \u001b[0m│\u001b[1;32m \u001b[0m\u001b[1;32m0.391 s     \u001b[0m\u001b[1;32m \u001b[0m│ 1    │\n",
       "├────────────────────────┼───────────────────────────┼─────────┼───────────────┼──────────────┼──────┤\n",
       "│ /reviews/6/ordered     │ ordering=-wrote_at        │ 6       │\u001b[1;36m \u001b[0m\u001b[1;36m6.472 s      \u001b[0m\u001b[1;36m \u001b[0m│\u001b[1;32m \u001b[0m\u001b[1;32m6.472 s     \u001b[0m\u001b[1;32m \u001b[0m│ 1    │\n",
       "├────────────────────────┼───────────────────────────┼─────────┼───────────────┼──────────────┼──────┤\n",
       "│ /reviews/10015/ordered │ ordering=-rating          │ 10015   │\u001b[1;36m \u001b[0m\u001b[1;36m0.120 s      \u001b[0m\u001b[1;36m \u001b[0m│\u001b[1;32m \u001b[0m\u001b[1;32m0.120 s     \u001b[0m\u001b[1;32m \u001b[0m│ 1    │\n",
       "├────────────────────────┼───────────────────────────┼─────────┼───────────────┼──────────────┼──────┤\n",
       "│ /reviews/6/ordered     │ ordering=-rating          │ 6       │\u001b[1;36m \u001b[0m\u001b[1;36m2.687 s      \u001b[0m\u001b[1;36m \u001b[0m│\u001b[1;32m \u001b[0m\u001b[1;32m2.687 s     \u001b[0m\u001b[1;32m \u001b[0m│ 1    │\n",
       "├────────────────────────┼───────────────────────────┼─────────┼───────────────┼──────────────┼──────┤\n",
       "│ /reviews/10015/ordered │ ordering=-wrote_at,rating │ 10015   │\u001b[1;36m \u001b[0m\u001b[1;36m0.152 s      \u001b[0m\u001b[1;36m \u001b[0m│\u001b[1;32m \u001b[0m\u001b[1;32m0.152 s     \u001b[0m\u001b[1;32m \u001b[0m│ 1    │\n",
       "├────────────────────────┼───────────────────────────┼─────────┼───────────────┼──────────────┼──────┤\n",
       "│ /reviews/6/ordered     │ ordering=-wrote_at,rating │ 6       │\u001b[1;36m \u001b[0m\u001b[1;36m2.659 s      \u001b[0m\u001b[1;36m \u001b[0m│\u001b[1;32m \u001b[0m\u001b[1;32m2.659 s     \u001b[0m\u001b[1;32m \u001b[0m│ 1    │\n",
       "└────────────────────────┴───────────────────────────┴─────────┴───────────────┴──────────────┴──────┘\n"
      ]
     },
     "metadata": {},
     "output_type": "display_data"
    }
   ],
   "source": [
    "from books.tests.benchmarks import benchmark_list_reviews\n",
    "\n",
    "benchmark_list_reviews([\"simple-list-reviews\", \"ordered-list-reviews\"], library_ids=[medium_id, alexandria_id])"
   ]
  },
  {
   "cell_type": "code",
   "execution_count": 9,
   "metadata": {},
   "outputs": [
    {
     "data": {
      "text/html": [
       "<pre style=\"white-space:pre;overflow-x:auto;line-height:normal;font-family:Menlo,'DejaVu Sans Mono',consolas,'Courier New',monospace\">ordering: id: <span style=\"color: #008080; text-decoration-color: #008080; font-weight: bold\">0.</span>08s.\n",
       "SQL: <span style=\"color: #008080; text-decoration-color: #008080; font-weight: bold\">0.</span>08s.\n",
       "       <span style=\"font-weight: bold\">(</span>duration: <span style=\"color: #008080; text-decoration-color: #008080; font-weight: bold\">0.082</span><span style=\"font-weight: bold\">)</span>   EXPLAIN <span style=\"font-weight: bold\">(</span>ANALYZE true<span style=\"font-weight: bold\">)</span> SELECT <span style=\"color: #008000; text-decoration-color: #008000\">\"books_review\"</span>.<span style=\"color: #008000; text-decoration-color: #008000\">\"id\"</span> FROM <span style=\"color: #008000; text-decoration-color: #008000\">\"books_review\"</span> WHERE \n",
       "<span style=\"color: #008000; text-decoration-color: #008000\">\"books_review\"</span>.<span style=\"color: #008000; text-decoration-color: #008000\">\"library_id\"</span> = <span style=\"color: #008080; text-decoration-color: #008080; font-weight: bold\">10015</span> ORDER BY <span style=\"color: #008000; text-decoration-color: #008000\">\"books_review\"</span>.<span style=\"color: #008000; text-decoration-color: #008000\">\"id\"</span> ASC LIMIT <span style=\"color: #008080; text-decoration-color: #008080; font-weight: bold\">20</span>\n",
       "</pre>\n"
      ],
      "text/plain": [
       "ordering: id: \u001b[1;36m0.\u001b[0m08s.\n",
       "SQL: \u001b[1;36m0.\u001b[0m08s.\n",
       "       \u001b[1m(\u001b[0mduration: \u001b[1;36m0.082\u001b[0m\u001b[1m)\u001b[0m   EXPLAIN \u001b[1m(\u001b[0mANALYZE true\u001b[1m)\u001b[0m SELECT \u001b[32m\"books_review\"\u001b[0m.\u001b[32m\"id\"\u001b[0m FROM \u001b[32m\"books_review\"\u001b[0m WHERE \n",
       "\u001b[32m\"books_review\"\u001b[0m.\u001b[32m\"library_id\"\u001b[0m = \u001b[1;36m10015\u001b[0m ORDER BY \u001b[32m\"books_review\"\u001b[0m.\u001b[32m\"id\"\u001b[0m ASC LIMIT \u001b[1;36m20\u001b[0m\n"
      ]
     },
     "metadata": {},
     "output_type": "display_data"
    },
    {
     "data": {
      "text/html": [
       "<pre style=\"white-space:pre;overflow-x:auto;line-height:normal;font-family:Menlo,'DejaVu Sans Mono',consolas,'Courier New',monospace\">Limit  <span style=\"font-weight: bold\">(</span><span style=\"color: #808000; text-decoration-color: #808000\">cost</span>=<span style=\"color: #008080; text-decoration-color: #008080; font-weight: bold\">4187.02</span>..<span style=\"color: #008080; text-decoration-color: #008080; font-weight: bold\">4187.07</span> <span style=\"color: #808000; text-decoration-color: #808000\">rows</span>=<span style=\"color: #008080; text-decoration-color: #008080; font-weight: bold\">20</span> <span style=\"color: #808000; text-decoration-color: #808000\">width</span>=<span style=\"color: #008080; text-decoration-color: #008080; font-weight: bold\">8</span><span style=\"font-weight: bold\">)</span> <span style=\"font-weight: bold\">(</span>actual <span style=\"color: #808000; text-decoration-color: #808000\">time</span>=<span style=\"color: #008080; text-decoration-color: #008080; font-weight: bold\">77.768</span>..<span style=\"color: #008080; text-decoration-color: #008080; font-weight: bold\">77.772</span> <span style=\"color: #808000; text-decoration-color: #808000\">rows</span>=<span style=\"color: #008080; text-decoration-color: #008080; font-weight: bold\">20</span> <span style=\"color: #808000; text-decoration-color: #808000\">loops</span>=<span style=\"color: #008080; text-decoration-color: #008080; font-weight: bold\">1</span><span style=\"font-weight: bold\">)</span>\n",
       "  -&gt;  Sort  <span style=\"font-weight: bold\">(</span><span style=\"color: #808000; text-decoration-color: #808000\">cost</span>=<span style=\"color: #008080; text-decoration-color: #008080; font-weight: bold\">4187.02</span>..<span style=\"color: #008080; text-decoration-color: #008080; font-weight: bold\">4193.02</span> <span style=\"color: #808000; text-decoration-color: #808000\">rows</span>=<span style=\"color: #008080; text-decoration-color: #008080; font-weight: bold\">2400</span> <span style=\"color: #808000; text-decoration-color: #808000\">width</span>=<span style=\"color: #008080; text-decoration-color: #008080; font-weight: bold\">8</span><span style=\"font-weight: bold\">)</span> <span style=\"font-weight: bold\">(</span>actual <span style=\"color: #808000; text-decoration-color: #808000\">time</span>=<span style=\"color: #008080; text-decoration-color: #008080; font-weight: bold\">77.766</span>..<span style=\"color: #008080; text-decoration-color: #008080; font-weight: bold\">77.768</span> <span style=\"color: #808000; text-decoration-color: #808000\">rows</span>=<span style=\"color: #008080; text-decoration-color: #008080; font-weight: bold\">20</span> <span style=\"color: #808000; text-decoration-color: #808000\">loops</span>=<span style=\"color: #008080; text-decoration-color: #008080; font-weight: bold\">1</span><span style=\"font-weight: bold\">)</span>\n",
       "        Sort Key: id\n",
       "        Sort Method: top-N heapsort  Memory: 25kB\n",
       "        -&gt;  Index Scan using books_review_library_id_e9b4afba on books_review  <span style=\"font-weight: bold\">(</span><span style=\"color: #808000; text-decoration-color: #808000\">cost</span>=<span style=\"color: #008080; text-decoration-color: #008080; font-weight: bold\">0.44</span>..<span style=\"color: #008080; text-decoration-color: #008080; font-weight: bold\">4123.15</span> <span style=\"color: #808000; text-decoration-color: #808000\">rows</span>=<span style=\"color: #008080; text-decoration-color: #008080; font-weight: bold\">2400</span> \n",
       "<span style=\"color: #808000; text-decoration-color: #808000\">width</span>=<span style=\"color: #008080; text-decoration-color: #008080; font-weight: bold\">8</span><span style=\"font-weight: bold\">)</span> <span style=\"font-weight: bold\">(</span>actual <span style=\"color: #808000; text-decoration-color: #808000\">time</span>=<span style=\"color: #008080; text-decoration-color: #008080; font-weight: bold\">0.051</span>..<span style=\"color: #008080; text-decoration-color: #008080; font-weight: bold\">51.778</span> <span style=\"color: #808000; text-decoration-color: #808000\">rows</span>=<span style=\"color: #008080; text-decoration-color: #008080; font-weight: bold\">200789</span> <span style=\"color: #808000; text-decoration-color: #808000\">loops</span>=<span style=\"color: #008080; text-decoration-color: #008080; font-weight: bold\">1</span><span style=\"font-weight: bold\">)</span>\n",
       "              Index Cond: <span style=\"font-weight: bold\">(</span>library_id = <span style=\"color: #008080; text-decoration-color: #008080; font-weight: bold\">10015</span><span style=\"font-weight: bold\">)</span>\n",
       "Planning Time: <span style=\"color: #008080; text-decoration-color: #008080; font-weight: bold\">0.116</span> ms\n",
       "Execution Time: <span style=\"color: #008080; text-decoration-color: #008080; font-weight: bold\">77.823</span> ms\n",
       "</pre>\n"
      ],
      "text/plain": [
       "Limit  \u001b[1m(\u001b[0m\u001b[33mcost\u001b[0m=\u001b[1;36m4187\u001b[0m\u001b[1;36m.02\u001b[0m..\u001b[1;36m4187.07\u001b[0m \u001b[33mrows\u001b[0m=\u001b[1;36m20\u001b[0m \u001b[33mwidth\u001b[0m=\u001b[1;36m8\u001b[0m\u001b[1m)\u001b[0m \u001b[1m(\u001b[0mactual \u001b[33mtime\u001b[0m=\u001b[1;36m77\u001b[0m\u001b[1;36m.768\u001b[0m..\u001b[1;36m77.772\u001b[0m \u001b[33mrows\u001b[0m=\u001b[1;36m20\u001b[0m \u001b[33mloops\u001b[0m=\u001b[1;36m1\u001b[0m\u001b[1m)\u001b[0m\n",
       "  ->  Sort  \u001b[1m(\u001b[0m\u001b[33mcost\u001b[0m=\u001b[1;36m4187\u001b[0m\u001b[1;36m.02\u001b[0m..\u001b[1;36m4193.02\u001b[0m \u001b[33mrows\u001b[0m=\u001b[1;36m2400\u001b[0m \u001b[33mwidth\u001b[0m=\u001b[1;36m8\u001b[0m\u001b[1m)\u001b[0m \u001b[1m(\u001b[0mactual \u001b[33mtime\u001b[0m=\u001b[1;36m77\u001b[0m\u001b[1;36m.766\u001b[0m..\u001b[1;36m77.768\u001b[0m \u001b[33mrows\u001b[0m=\u001b[1;36m20\u001b[0m \u001b[33mloops\u001b[0m=\u001b[1;36m1\u001b[0m\u001b[1m)\u001b[0m\n",
       "        Sort Key: id\n",
       "        Sort Method: top-N heapsort  Memory: 25kB\n",
       "        ->  Index Scan using books_review_library_id_e9b4afba on books_review  \u001b[1m(\u001b[0m\u001b[33mcost\u001b[0m=\u001b[1;36m0\u001b[0m\u001b[1;36m.44\u001b[0m..\u001b[1;36m4123.15\u001b[0m \u001b[33mrows\u001b[0m=\u001b[1;36m2400\u001b[0m \n",
       "\u001b[33mwidth\u001b[0m=\u001b[1;36m8\u001b[0m\u001b[1m)\u001b[0m \u001b[1m(\u001b[0mactual \u001b[33mtime\u001b[0m=\u001b[1;36m0\u001b[0m\u001b[1;36m.051\u001b[0m..\u001b[1;36m51.778\u001b[0m \u001b[33mrows\u001b[0m=\u001b[1;36m200789\u001b[0m \u001b[33mloops\u001b[0m=\u001b[1;36m1\u001b[0m\u001b[1m)\u001b[0m\n",
       "              Index Cond: \u001b[1m(\u001b[0mlibrary_id = \u001b[1;36m10015\u001b[0m\u001b[1m)\u001b[0m\n",
       "Planning Time: \u001b[1;36m0.116\u001b[0m ms\n",
       "Execution Time: \u001b[1;36m77.823\u001b[0m ms\n"
      ]
     },
     "metadata": {},
     "output_type": "display_data"
    },
    {
     "data": {
      "text/html": [
       "<pre style=\"white-space:pre;overflow-x:auto;line-height:normal;font-family:Menlo,'DejaVu Sans Mono',consolas,'Courier New',monospace\"><span style=\"color: #00ff00; text-decoration-color: #00ff00\">───────────────────────────────────────────────────────────────────────────────────────────────────────────────────</span>\n",
       "</pre>\n"
      ],
      "text/plain": [
       "\u001b[92m───────────────────────────────────────────────────────────────────────────────────────────────────────────────────\u001b[0m\n"
      ]
     },
     "metadata": {},
     "output_type": "display_data"
    },
    {
     "data": {
      "text/html": [
       "<pre style=\"white-space:pre;overflow-x:auto;line-height:normal;font-family:Menlo,'DejaVu Sans Mono',consolas,'Courier New',monospace\">ordering: -id: <span style=\"color: #008080; text-decoration-color: #008080; font-weight: bold\">0.</span>12s.\n",
       "SQL: <span style=\"color: #008080; text-decoration-color: #008080; font-weight: bold\">0.</span>12s.\n",
       "       <span style=\"font-weight: bold\">(</span>duration: <span style=\"color: #008080; text-decoration-color: #008080; font-weight: bold\">0.115</span><span style=\"font-weight: bold\">)</span>   EXPLAIN <span style=\"font-weight: bold\">(</span>ANALYZE true<span style=\"font-weight: bold\">)</span> SELECT <span style=\"color: #008000; text-decoration-color: #008000\">\"books_review\"</span>.<span style=\"color: #008000; text-decoration-color: #008000\">\"id\"</span> FROM <span style=\"color: #008000; text-decoration-color: #008000\">\"books_review\"</span> WHERE \n",
       "<span style=\"color: #008000; text-decoration-color: #008000\">\"books_review\"</span>.<span style=\"color: #008000; text-decoration-color: #008000\">\"library_id\"</span> = <span style=\"color: #008080; text-decoration-color: #008080; font-weight: bold\">10015</span> ORDER BY <span style=\"color: #008000; text-decoration-color: #008000\">\"books_review\"</span>.<span style=\"color: #008000; text-decoration-color: #008000\">\"id\"</span> DESC LIMIT <span style=\"color: #008080; text-decoration-color: #008080; font-weight: bold\">20</span>\n",
       "</pre>\n"
      ],
      "text/plain": [
       "ordering: -id: \u001b[1;36m0.\u001b[0m12s.\n",
       "SQL: \u001b[1;36m0.\u001b[0m12s.\n",
       "       \u001b[1m(\u001b[0mduration: \u001b[1;36m0.115\u001b[0m\u001b[1m)\u001b[0m   EXPLAIN \u001b[1m(\u001b[0mANALYZE true\u001b[1m)\u001b[0m SELECT \u001b[32m\"books_review\"\u001b[0m.\u001b[32m\"id\"\u001b[0m FROM \u001b[32m\"books_review\"\u001b[0m WHERE \n",
       "\u001b[32m\"books_review\"\u001b[0m.\u001b[32m\"library_id\"\u001b[0m = \u001b[1;36m10015\u001b[0m ORDER BY \u001b[32m\"books_review\"\u001b[0m.\u001b[32m\"id\"\u001b[0m DESC LIMIT \u001b[1;36m20\u001b[0m\n"
      ]
     },
     "metadata": {},
     "output_type": "display_data"
    },
    {
     "data": {
      "text/html": [
       "<pre style=\"white-space:pre;overflow-x:auto;line-height:normal;font-family:Menlo,'DejaVu Sans Mono',consolas,'Courier New',monospace\">Limit  <span style=\"font-weight: bold\">(</span><span style=\"color: #808000; text-decoration-color: #808000\">cost</span>=<span style=\"color: #008080; text-decoration-color: #008080; font-weight: bold\">4187.02</span>..<span style=\"color: #008080; text-decoration-color: #008080; font-weight: bold\">4187.07</span> <span style=\"color: #808000; text-decoration-color: #808000\">rows</span>=<span style=\"color: #008080; text-decoration-color: #008080; font-weight: bold\">20</span> <span style=\"color: #808000; text-decoration-color: #808000\">width</span>=<span style=\"color: #008080; text-decoration-color: #008080; font-weight: bold\">8</span><span style=\"font-weight: bold\">)</span> <span style=\"font-weight: bold\">(</span>actual <span style=\"color: #808000; text-decoration-color: #808000\">time</span>=<span style=\"color: #008080; text-decoration-color: #008080; font-weight: bold\">101.355</span>..<span style=\"color: #008080; text-decoration-color: #008080; font-weight: bold\">101.361</span> <span style=\"color: #808000; text-decoration-color: #808000\">rows</span>=<span style=\"color: #008080; text-decoration-color: #008080; font-weight: bold\">20</span> <span style=\"color: #808000; text-decoration-color: #808000\">loops</span>=<span style=\"color: #008080; text-decoration-color: #008080; font-weight: bold\">1</span><span style=\"font-weight: bold\">)</span>\n",
       "  -&gt;  Sort  <span style=\"font-weight: bold\">(</span><span style=\"color: #808000; text-decoration-color: #808000\">cost</span>=<span style=\"color: #008080; text-decoration-color: #008080; font-weight: bold\">4187.02</span>..<span style=\"color: #008080; text-decoration-color: #008080; font-weight: bold\">4193.02</span> <span style=\"color: #808000; text-decoration-color: #808000\">rows</span>=<span style=\"color: #008080; text-decoration-color: #008080; font-weight: bold\">2400</span> <span style=\"color: #808000; text-decoration-color: #808000\">width</span>=<span style=\"color: #008080; text-decoration-color: #008080; font-weight: bold\">8</span><span style=\"font-weight: bold\">)</span> <span style=\"font-weight: bold\">(</span>actual <span style=\"color: #808000; text-decoration-color: #808000\">time</span>=<span style=\"color: #008080; text-decoration-color: #008080; font-weight: bold\">101.352</span>..<span style=\"color: #008080; text-decoration-color: #008080; font-weight: bold\">101.355</span> <span style=\"color: #808000; text-decoration-color: #808000\">rows</span>=<span style=\"color: #008080; text-decoration-color: #008080; font-weight: bold\">20</span> <span style=\"color: #808000; text-decoration-color: #808000\">loops</span>=<span style=\"color: #008080; text-decoration-color: #008080; font-weight: bold\">1</span><span style=\"font-weight: bold\">)</span>\n",
       "        Sort Key: id DESC\n",
       "        Sort Method: top-N heapsort  Memory: 26kB\n",
       "        -&gt;  Index Scan using books_review_library_id_e9b4afba on books_review  <span style=\"font-weight: bold\">(</span><span style=\"color: #808000; text-decoration-color: #808000\">cost</span>=<span style=\"color: #008080; text-decoration-color: #008080; font-weight: bold\">0.44</span>..<span style=\"color: #008080; text-decoration-color: #008080; font-weight: bold\">4123.15</span> <span style=\"color: #808000; text-decoration-color: #808000\">rows</span>=<span style=\"color: #008080; text-decoration-color: #008080; font-weight: bold\">2400</span> \n",
       "<span style=\"color: #808000; text-decoration-color: #808000\">width</span>=<span style=\"color: #008080; text-decoration-color: #008080; font-weight: bold\">8</span><span style=\"font-weight: bold\">)</span> <span style=\"font-weight: bold\">(</span>actual <span style=\"color: #808000; text-decoration-color: #808000\">time</span>=<span style=\"color: #008080; text-decoration-color: #008080; font-weight: bold\">0.050</span>..<span style=\"color: #008080; text-decoration-color: #008080; font-weight: bold\">67.756</span> <span style=\"color: #808000; text-decoration-color: #808000\">rows</span>=<span style=\"color: #008080; text-decoration-color: #008080; font-weight: bold\">200789</span> <span style=\"color: #808000; text-decoration-color: #808000\">loops</span>=<span style=\"color: #008080; text-decoration-color: #008080; font-weight: bold\">1</span><span style=\"font-weight: bold\">)</span>\n",
       "              Index Cond: <span style=\"font-weight: bold\">(</span>library_id = <span style=\"color: #008080; text-decoration-color: #008080; font-weight: bold\">10015</span><span style=\"font-weight: bold\">)</span>\n",
       "Planning Time: <span style=\"color: #008080; text-decoration-color: #008080; font-weight: bold\">0.138</span> ms\n",
       "Execution Time: <span style=\"color: #008080; text-decoration-color: #008080; font-weight: bold\">101.636</span> ms\n",
       "</pre>\n"
      ],
      "text/plain": [
       "Limit  \u001b[1m(\u001b[0m\u001b[33mcost\u001b[0m=\u001b[1;36m4187\u001b[0m\u001b[1;36m.02\u001b[0m..\u001b[1;36m4187.07\u001b[0m \u001b[33mrows\u001b[0m=\u001b[1;36m20\u001b[0m \u001b[33mwidth\u001b[0m=\u001b[1;36m8\u001b[0m\u001b[1m)\u001b[0m \u001b[1m(\u001b[0mactual \u001b[33mtime\u001b[0m=\u001b[1;36m101\u001b[0m\u001b[1;36m.355\u001b[0m..\u001b[1;36m101.361\u001b[0m \u001b[33mrows\u001b[0m=\u001b[1;36m20\u001b[0m \u001b[33mloops\u001b[0m=\u001b[1;36m1\u001b[0m\u001b[1m)\u001b[0m\n",
       "  ->  Sort  \u001b[1m(\u001b[0m\u001b[33mcost\u001b[0m=\u001b[1;36m4187\u001b[0m\u001b[1;36m.02\u001b[0m..\u001b[1;36m4193.02\u001b[0m \u001b[33mrows\u001b[0m=\u001b[1;36m2400\u001b[0m \u001b[33mwidth\u001b[0m=\u001b[1;36m8\u001b[0m\u001b[1m)\u001b[0m \u001b[1m(\u001b[0mactual \u001b[33mtime\u001b[0m=\u001b[1;36m101\u001b[0m\u001b[1;36m.352\u001b[0m..\u001b[1;36m101.355\u001b[0m \u001b[33mrows\u001b[0m=\u001b[1;36m20\u001b[0m \u001b[33mloops\u001b[0m=\u001b[1;36m1\u001b[0m\u001b[1m)\u001b[0m\n",
       "        Sort Key: id DESC\n",
       "        Sort Method: top-N heapsort  Memory: 26kB\n",
       "        ->  Index Scan using books_review_library_id_e9b4afba on books_review  \u001b[1m(\u001b[0m\u001b[33mcost\u001b[0m=\u001b[1;36m0\u001b[0m\u001b[1;36m.44\u001b[0m..\u001b[1;36m4123.15\u001b[0m \u001b[33mrows\u001b[0m=\u001b[1;36m2400\u001b[0m \n",
       "\u001b[33mwidth\u001b[0m=\u001b[1;36m8\u001b[0m\u001b[1m)\u001b[0m \u001b[1m(\u001b[0mactual \u001b[33mtime\u001b[0m=\u001b[1;36m0\u001b[0m\u001b[1;36m.050\u001b[0m..\u001b[1;36m67.756\u001b[0m \u001b[33mrows\u001b[0m=\u001b[1;36m200789\u001b[0m \u001b[33mloops\u001b[0m=\u001b[1;36m1\u001b[0m\u001b[1m)\u001b[0m\n",
       "              Index Cond: \u001b[1m(\u001b[0mlibrary_id = \u001b[1;36m10015\u001b[0m\u001b[1m)\u001b[0m\n",
       "Planning Time: \u001b[1;36m0.138\u001b[0m ms\n",
       "Execution Time: \u001b[1;36m101.636\u001b[0m ms\n"
      ]
     },
     "metadata": {},
     "output_type": "display_data"
    },
    {
     "data": {
      "text/html": [
       "<pre style=\"white-space:pre;overflow-x:auto;line-height:normal;font-family:Menlo,'DejaVu Sans Mono',consolas,'Courier New',monospace\"><span style=\"color: #00ff00; text-decoration-color: #00ff00\">───────────────────────────────────────────────────────────────────────────────────────────────────────────────────</span>\n",
       "</pre>\n"
      ],
      "text/plain": [
       "\u001b[92m───────────────────────────────────────────────────────────────────────────────────────────────────────────────────\u001b[0m\n"
      ]
     },
     "metadata": {},
     "output_type": "display_data"
    },
    {
     "data": {
      "text/html": [
       "<pre style=\"white-space:pre;overflow-x:auto;line-height:normal;font-family:Menlo,'DejaVu Sans Mono',consolas,'Courier New',monospace\">ordering: id: <span style=\"color: #008080; text-decoration-color: #008080; font-weight: bold\">0.</span>01s.\n",
       "SQL: <span style=\"color: #008080; text-decoration-color: #008080; font-weight: bold\">0.</span>01s.\n",
       "       <span style=\"font-weight: bold\">(</span>duration: <span style=\"color: #008080; text-decoration-color: #008080; font-weight: bold\">0.005</span><span style=\"font-weight: bold\">)</span>   EXPLAIN <span style=\"font-weight: bold\">(</span>ANALYZE true<span style=\"font-weight: bold\">)</span> SELECT <span style=\"color: #008000; text-decoration-color: #008000\">\"books_review\"</span>.<span style=\"color: #008000; text-decoration-color: #008000\">\"id\"</span> FROM <span style=\"color: #008000; text-decoration-color: #008000\">\"books_review\"</span> WHERE \n",
       "<span style=\"color: #008000; text-decoration-color: #008000\">\"books_review\"</span>.<span style=\"color: #008000; text-decoration-color: #008000\">\"library_id\"</span> = <span style=\"color: #008080; text-decoration-color: #008080; font-weight: bold\">6</span> ORDER BY <span style=\"color: #008000; text-decoration-color: #008000\">\"books_review\"</span>.<span style=\"color: #008000; text-decoration-color: #008000\">\"id\"</span> ASC LIMIT <span style=\"color: #008080; text-decoration-color: #008080; font-weight: bold\">20</span>\n",
       "</pre>\n"
      ],
      "text/plain": [
       "ordering: id: \u001b[1;36m0.\u001b[0m01s.\n",
       "SQL: \u001b[1;36m0.\u001b[0m01s.\n",
       "       \u001b[1m(\u001b[0mduration: \u001b[1;36m0.005\u001b[0m\u001b[1m)\u001b[0m   EXPLAIN \u001b[1m(\u001b[0mANALYZE true\u001b[1m)\u001b[0m SELECT \u001b[32m\"books_review\"\u001b[0m.\u001b[32m\"id\"\u001b[0m FROM \u001b[32m\"books_review\"\u001b[0m WHERE \n",
       "\u001b[32m\"books_review\"\u001b[0m.\u001b[32m\"library_id\"\u001b[0m = \u001b[1;36m6\u001b[0m ORDER BY \u001b[32m\"books_review\"\u001b[0m.\u001b[32m\"id\"\u001b[0m ASC LIMIT \u001b[1;36m20\u001b[0m\n"
      ]
     },
     "metadata": {},
     "output_type": "display_data"
    },
    {
     "data": {
      "text/html": [
       "<pre style=\"white-space:pre;overflow-x:auto;line-height:normal;font-family:Menlo,'DejaVu Sans Mono',consolas,'Courier New',monospace\">Limit  <span style=\"font-weight: bold\">(</span><span style=\"color: #808000; text-decoration-color: #808000\">cost</span>=<span style=\"color: #008080; text-decoration-color: #008080; font-weight: bold\">0.44</span>..<span style=\"color: #008080; text-decoration-color: #008080; font-weight: bold\">23.51</span> <span style=\"color: #808000; text-decoration-color: #808000\">rows</span>=<span style=\"color: #008080; text-decoration-color: #008080; font-weight: bold\">20</span> <span style=\"color: #808000; text-decoration-color: #808000\">width</span>=<span style=\"color: #008080; text-decoration-color: #008080; font-weight: bold\">8</span><span style=\"font-weight: bold\">)</span> <span style=\"font-weight: bold\">(</span>actual <span style=\"color: #808000; text-decoration-color: #808000\">time</span>=<span style=\"color: #008080; text-decoration-color: #008080; font-weight: bold\">3.188</span>..<span style=\"color: #008080; text-decoration-color: #008080; font-weight: bold\">3.327</span> <span style=\"color: #808000; text-decoration-color: #808000\">rows</span>=<span style=\"color: #008080; text-decoration-color: #008080; font-weight: bold\">20</span> <span style=\"color: #808000; text-decoration-color: #808000\">loops</span>=<span style=\"color: #008080; text-decoration-color: #008080; font-weight: bold\">1</span><span style=\"font-weight: bold\">)</span>\n",
       "  -&gt;  Index Scan using books_review_pkey on books_review  <span style=\"font-weight: bold\">(</span><span style=\"color: #808000; text-decoration-color: #808000\">cost</span>=<span style=\"color: #008080; text-decoration-color: #008080; font-weight: bold\">0.44</span>..<span style=\"color: #008080; text-decoration-color: #008080; font-weight: bold\">2358007.46</span> <span style=\"color: #808000; text-decoration-color: #808000\">rows</span>=<span style=\"color: #008080; text-decoration-color: #008080; font-weight: bold\">2044265</span> <span style=\"color: #808000; text-decoration-color: #808000\">width</span>=<span style=\"color: #008080; text-decoration-color: #008080; font-weight: bold\">8</span><span style=\"font-weight: bold\">)</span> <span style=\"font-weight: bold\">(</span>actual \n",
       "<span style=\"color: #808000; text-decoration-color: #808000\">time</span>=<span style=\"color: #008080; text-decoration-color: #008080; font-weight: bold\">3.186</span>..<span style=\"color: #008080; text-decoration-color: #008080; font-weight: bold\">3.322</span> <span style=\"color: #808000; text-decoration-color: #808000\">rows</span>=<span style=\"color: #008080; text-decoration-color: #008080; font-weight: bold\">20</span> <span style=\"color: #808000; text-decoration-color: #808000\">loops</span>=<span style=\"color: #008080; text-decoration-color: #008080; font-weight: bold\">1</span><span style=\"font-weight: bold\">)</span>\n",
       "        Filter: <span style=\"font-weight: bold\">(</span>library_id = <span style=\"color: #008080; text-decoration-color: #008080; font-weight: bold\">6</span><span style=\"font-weight: bold\">)</span>\n",
       "        Rows Removed by Filter: <span style=\"color: #008080; text-decoration-color: #008080; font-weight: bold\">3276</span>\n",
       "Planning Time: <span style=\"color: #008080; text-decoration-color: #008080; font-weight: bold\">0.129</span> ms\n",
       "Execution Time: <span style=\"color: #008080; text-decoration-color: #008080; font-weight: bold\">3.366</span> ms\n",
       "</pre>\n"
      ],
      "text/plain": [
       "Limit  \u001b[1m(\u001b[0m\u001b[33mcost\u001b[0m=\u001b[1;36m0\u001b[0m\u001b[1;36m.44\u001b[0m..\u001b[1;36m23.51\u001b[0m \u001b[33mrows\u001b[0m=\u001b[1;36m20\u001b[0m \u001b[33mwidth\u001b[0m=\u001b[1;36m8\u001b[0m\u001b[1m)\u001b[0m \u001b[1m(\u001b[0mactual \u001b[33mtime\u001b[0m=\u001b[1;36m3\u001b[0m\u001b[1;36m.188\u001b[0m..\u001b[1;36m3.327\u001b[0m \u001b[33mrows\u001b[0m=\u001b[1;36m20\u001b[0m \u001b[33mloops\u001b[0m=\u001b[1;36m1\u001b[0m\u001b[1m)\u001b[0m\n",
       "  ->  Index Scan using books_review_pkey on books_review  \u001b[1m(\u001b[0m\u001b[33mcost\u001b[0m=\u001b[1;36m0\u001b[0m\u001b[1;36m.44\u001b[0m..\u001b[1;36m2358007.46\u001b[0m \u001b[33mrows\u001b[0m=\u001b[1;36m2044265\u001b[0m \u001b[33mwidth\u001b[0m=\u001b[1;36m8\u001b[0m\u001b[1m)\u001b[0m \u001b[1m(\u001b[0mactual \n",
       "\u001b[33mtime\u001b[0m=\u001b[1;36m3\u001b[0m\u001b[1;36m.186\u001b[0m..\u001b[1;36m3.322\u001b[0m \u001b[33mrows\u001b[0m=\u001b[1;36m20\u001b[0m \u001b[33mloops\u001b[0m=\u001b[1;36m1\u001b[0m\u001b[1m)\u001b[0m\n",
       "        Filter: \u001b[1m(\u001b[0mlibrary_id = \u001b[1;36m6\u001b[0m\u001b[1m)\u001b[0m\n",
       "        Rows Removed by Filter: \u001b[1;36m3276\u001b[0m\n",
       "Planning Time: \u001b[1;36m0.129\u001b[0m ms\n",
       "Execution Time: \u001b[1;36m3.366\u001b[0m ms\n"
      ]
     },
     "metadata": {},
     "output_type": "display_data"
    },
    {
     "data": {
      "text/html": [
       "<pre style=\"white-space:pre;overflow-x:auto;line-height:normal;font-family:Menlo,'DejaVu Sans Mono',consolas,'Courier New',monospace\"><span style=\"color: #00ff00; text-decoration-color: #00ff00\">───────────────────────────────────────────────────────────────────────────────────────────────────────────────────</span>\n",
       "</pre>\n"
      ],
      "text/plain": [
       "\u001b[92m───────────────────────────────────────────────────────────────────────────────────────────────────────────────────\u001b[0m\n"
      ]
     },
     "metadata": {},
     "output_type": "display_data"
    },
    {
     "data": {
      "text/html": [
       "<pre style=\"white-space:pre;overflow-x:auto;line-height:normal;font-family:Menlo,'DejaVu Sans Mono',consolas,'Courier New',monospace\">ordering: -id: <span style=\"color: #008080; text-decoration-color: #008080; font-weight: bold\">9.</span>10s.\n",
       "SQL: <span style=\"color: #008080; text-decoration-color: #008080; font-weight: bold\">9.</span>10s.\n",
       "       <span style=\"font-weight: bold\">(</span>duration: <span style=\"color: #008080; text-decoration-color: #008080; font-weight: bold\">9.096</span><span style=\"font-weight: bold\">)</span>   EXPLAIN <span style=\"font-weight: bold\">(</span>ANALYZE true<span style=\"font-weight: bold\">)</span> SELECT <span style=\"color: #008000; text-decoration-color: #008000\">\"books_review\"</span>.<span style=\"color: #008000; text-decoration-color: #008000\">\"id\"</span> FROM <span style=\"color: #008000; text-decoration-color: #008000\">\"books_review\"</span> WHERE \n",
       "<span style=\"color: #008000; text-decoration-color: #008000\">\"books_review\"</span>.<span style=\"color: #008000; text-decoration-color: #008000\">\"library_id\"</span> = <span style=\"color: #008080; text-decoration-color: #008080; font-weight: bold\">6</span> ORDER BY <span style=\"color: #008000; text-decoration-color: #008000\">\"books_review\"</span>.<span style=\"color: #008000; text-decoration-color: #008000\">\"id\"</span> DESC LIMIT <span style=\"color: #008080; text-decoration-color: #008080; font-weight: bold\">20</span>\n",
       "</pre>\n"
      ],
      "text/plain": [
       "ordering: -id: \u001b[1;36m9.\u001b[0m10s.\n",
       "SQL: \u001b[1;36m9.\u001b[0m10s.\n",
       "       \u001b[1m(\u001b[0mduration: \u001b[1;36m9.096\u001b[0m\u001b[1m)\u001b[0m   EXPLAIN \u001b[1m(\u001b[0mANALYZE true\u001b[1m)\u001b[0m SELECT \u001b[32m\"books_review\"\u001b[0m.\u001b[32m\"id\"\u001b[0m FROM \u001b[32m\"books_review\"\u001b[0m WHERE \n",
       "\u001b[32m\"books_review\"\u001b[0m.\u001b[32m\"library_id\"\u001b[0m = \u001b[1;36m6\u001b[0m ORDER BY \u001b[32m\"books_review\"\u001b[0m.\u001b[32m\"id\"\u001b[0m DESC LIMIT \u001b[1;36m20\u001b[0m\n"
      ]
     },
     "metadata": {},
     "output_type": "display_data"
    },
    {
     "data": {
      "text/html": [
       "<pre style=\"white-space:pre;overflow-x:auto;line-height:normal;font-family:Menlo,'DejaVu Sans Mono',consolas,'Courier New',monospace\">Limit  <span style=\"font-weight: bold\">(</span><span style=\"color: #808000; text-decoration-color: #808000\">cost</span>=<span style=\"color: #008080; text-decoration-color: #008080; font-weight: bold\">0.44</span>..<span style=\"color: #008080; text-decoration-color: #008080; font-weight: bold\">23.51</span> <span style=\"color: #808000; text-decoration-color: #808000\">rows</span>=<span style=\"color: #008080; text-decoration-color: #008080; font-weight: bold\">20</span> <span style=\"color: #808000; text-decoration-color: #808000\">width</span>=<span style=\"color: #008080; text-decoration-color: #008080; font-weight: bold\">8</span><span style=\"font-weight: bold\">)</span> <span style=\"font-weight: bold\">(</span>actual <span style=\"color: #808000; text-decoration-color: #808000\">time</span>=<span style=\"color: #008080; text-decoration-color: #008080; font-weight: bold\">9095.202</span>..<span style=\"color: #008080; text-decoration-color: #008080; font-weight: bold\">9095.224</span> <span style=\"color: #808000; text-decoration-color: #808000\">rows</span>=<span style=\"color: #008080; text-decoration-color: #008080; font-weight: bold\">20</span> <span style=\"color: #808000; text-decoration-color: #808000\">loops</span>=<span style=\"color: #008080; text-decoration-color: #008080; font-weight: bold\">1</span><span style=\"font-weight: bold\">)</span>\n",
       "  -&gt;  Index Scan Backward using books_review_pkey on books_review  <span style=\"font-weight: bold\">(</span><span style=\"color: #808000; text-decoration-color: #808000\">cost</span>=<span style=\"color: #008080; text-decoration-color: #008080; font-weight: bold\">0.44</span>..<span style=\"color: #008080; text-decoration-color: #008080; font-weight: bold\">2358007.46</span> <span style=\"color: #808000; text-decoration-color: #808000\">rows</span>=<span style=\"color: #008080; text-decoration-color: #008080; font-weight: bold\">2044265</span> <span style=\"color: #808000; text-decoration-color: #808000\">width</span>=<span style=\"color: #008080; text-decoration-color: #008080; font-weight: bold\">8</span><span style=\"font-weight: bold\">)</span> \n",
       "<span style=\"font-weight: bold\">(</span>actual <span style=\"color: #808000; text-decoration-color: #808000\">time</span>=<span style=\"color: #008080; text-decoration-color: #008080; font-weight: bold\">9095.200</span>..<span style=\"color: #008080; text-decoration-color: #008080; font-weight: bold\">9095.220</span> <span style=\"color: #808000; text-decoration-color: #808000\">rows</span>=<span style=\"color: #008080; text-decoration-color: #008080; font-weight: bold\">20</span> <span style=\"color: #808000; text-decoration-color: #808000\">loops</span>=<span style=\"color: #008080; text-decoration-color: #008080; font-weight: bold\">1</span><span style=\"font-weight: bold\">)</span>\n",
       "        Filter: <span style=\"font-weight: bold\">(</span>library_id = <span style=\"color: #008080; text-decoration-color: #008080; font-weight: bold\">6</span><span style=\"font-weight: bold\">)</span>\n",
       "        Rows Removed by Filter: <span style=\"color: #008080; text-decoration-color: #008080; font-weight: bold\">20010072</span>\n",
       "Planning Time: <span style=\"color: #008080; text-decoration-color: #008080; font-weight: bold\">0.097</span> ms\n",
       "Execution Time: <span style=\"color: #008080; text-decoration-color: #008080; font-weight: bold\">9095.280</span> ms\n",
       "</pre>\n"
      ],
      "text/plain": [
       "Limit  \u001b[1m(\u001b[0m\u001b[33mcost\u001b[0m=\u001b[1;36m0\u001b[0m\u001b[1;36m.44\u001b[0m..\u001b[1;36m23.51\u001b[0m \u001b[33mrows\u001b[0m=\u001b[1;36m20\u001b[0m \u001b[33mwidth\u001b[0m=\u001b[1;36m8\u001b[0m\u001b[1m)\u001b[0m \u001b[1m(\u001b[0mactual \u001b[33mtime\u001b[0m=\u001b[1;36m9095\u001b[0m\u001b[1;36m.202\u001b[0m..\u001b[1;36m9095.224\u001b[0m \u001b[33mrows\u001b[0m=\u001b[1;36m20\u001b[0m \u001b[33mloops\u001b[0m=\u001b[1;36m1\u001b[0m\u001b[1m)\u001b[0m\n",
       "  ->  Index Scan Backward using books_review_pkey on books_review  \u001b[1m(\u001b[0m\u001b[33mcost\u001b[0m=\u001b[1;36m0\u001b[0m\u001b[1;36m.44\u001b[0m..\u001b[1;36m2358007.46\u001b[0m \u001b[33mrows\u001b[0m=\u001b[1;36m2044265\u001b[0m \u001b[33mwidth\u001b[0m=\u001b[1;36m8\u001b[0m\u001b[1m)\u001b[0m \n",
       "\u001b[1m(\u001b[0mactual \u001b[33mtime\u001b[0m=\u001b[1;36m9095\u001b[0m\u001b[1;36m.200\u001b[0m..\u001b[1;36m9095.220\u001b[0m \u001b[33mrows\u001b[0m=\u001b[1;36m20\u001b[0m \u001b[33mloops\u001b[0m=\u001b[1;36m1\u001b[0m\u001b[1m)\u001b[0m\n",
       "        Filter: \u001b[1m(\u001b[0mlibrary_id = \u001b[1;36m6\u001b[0m\u001b[1m)\u001b[0m\n",
       "        Rows Removed by Filter: \u001b[1;36m20010072\u001b[0m\n",
       "Planning Time: \u001b[1;36m0.097\u001b[0m ms\n",
       "Execution Time: \u001b[1;36m9095.280\u001b[0m ms\n"
      ]
     },
     "metadata": {},
     "output_type": "display_data"
    },
    {
     "data": {
      "text/html": [
       "<pre style=\"white-space:pre;overflow-x:auto;line-height:normal;font-family:Menlo,'DejaVu Sans Mono',consolas,'Courier New',monospace\"><span style=\"color: #00ff00; text-decoration-color: #00ff00\">───────────────────────────────────────────────────────────────────────────────────────────────────────────────────</span>\n",
       "</pre>\n"
      ],
      "text/plain": [
       "\u001b[92m───────────────────────────────────────────────────────────────────────────────────────────────────────────────────\u001b[0m\n"
      ]
     },
     "metadata": {},
     "output_type": "display_data"
    }
   ],
   "source": [
    "def explain_qs(library_id, ordering):\n",
    "    with perf_counter(message=f\"ordering: {ordering}\", time_sql=True, print_sql=True):\n",
    "        result =  (\n",
    "            Review.objects.filter(library_id=library_id)\n",
    "            .values(\"id\")\n",
    "            .order_by(ordering)[:20]\n",
    "            .explain(analyze=True)\n",
    "        )\n",
    "    print(result)\n",
    "    console.rule()\n",
    "\n",
    "\n",
    "explain_qs(medium_id, \"id\")\n",
    "explain_qs(medium_id, \"-id\")\n",
    "explain_qs(alexandria_id, \"id\")\n",
    "explain_qs(alexandria_id, \"-id\")"
   ]
  },
  {
   "cell_type": "code",
   "execution_count": 10,
   "metadata": {},
   "outputs": [
    {
     "data": {
      "text/html": [
       "<pre style=\"white-space:pre;overflow-x:auto;line-height:normal;font-family:Menlo,'DejaVu Sans Mono',consolas,'Courier New',monospace\">ordering: wrote_at: <span style=\"color: #008080; text-decoration-color: #008080; font-weight: bold\">3.</span>19s.\n",
       "SQL: <span style=\"color: #008080; text-decoration-color: #008080; font-weight: bold\">3.</span>19s.\n",
       "       <span style=\"font-weight: bold\">(</span>duration: <span style=\"color: #008080; text-decoration-color: #008080; font-weight: bold\">3.188</span><span style=\"font-weight: bold\">)</span>   EXPLAIN <span style=\"font-weight: bold\">(</span>ANALYZE true<span style=\"font-weight: bold\">)</span> SELECT <span style=\"color: #008000; text-decoration-color: #008000\">\"books_review\"</span>.<span style=\"color: #008000; text-decoration-color: #008000\">\"id\"</span> FROM <span style=\"color: #008000; text-decoration-color: #008000\">\"books_review\"</span> WHERE \n",
       "<span style=\"color: #008000; text-decoration-color: #008000\">\"books_review\"</span>.<span style=\"color: #008000; text-decoration-color: #008000\">\"library_id\"</span> = <span style=\"color: #008080; text-decoration-color: #008080; font-weight: bold\">6</span> ORDER BY <span style=\"color: #008000; text-decoration-color: #008000\">\"books_review\"</span>.<span style=\"color: #008000; text-decoration-color: #008000\">\"wrote_at\"</span> ASC LIMIT <span style=\"color: #008080; text-decoration-color: #008080; font-weight: bold\">20</span>\n",
       "</pre>\n"
      ],
      "text/plain": [
       "ordering: wrote_at: \u001b[1;36m3.\u001b[0m19s.\n",
       "SQL: \u001b[1;36m3.\u001b[0m19s.\n",
       "       \u001b[1m(\u001b[0mduration: \u001b[1;36m3.188\u001b[0m\u001b[1m)\u001b[0m   EXPLAIN \u001b[1m(\u001b[0mANALYZE true\u001b[1m)\u001b[0m SELECT \u001b[32m\"books_review\"\u001b[0m.\u001b[32m\"id\"\u001b[0m FROM \u001b[32m\"books_review\"\u001b[0m WHERE \n",
       "\u001b[32m\"books_review\"\u001b[0m.\u001b[32m\"library_id\"\u001b[0m = \u001b[1;36m6\u001b[0m ORDER BY \u001b[32m\"books_review\"\u001b[0m.\u001b[32m\"wrote_at\"\u001b[0m ASC LIMIT \u001b[1;36m20\u001b[0m\n"
      ]
     },
     "metadata": {},
     "output_type": "display_data"
    },
    {
     "data": {
      "text/html": [
       "<pre style=\"white-space:pre;overflow-x:auto;line-height:normal;font-family:Menlo,'DejaVu Sans Mono',consolas,'Courier New',monospace\">Limit  <span style=\"font-weight: bold\">(</span><span style=\"color: #808000; text-decoration-color: #808000\">cost</span>=<span style=\"color: #008080; text-decoration-color: #008080; font-weight: bold\">1449258.88</span>..<span style=\"color: #008080; text-decoration-color: #008080; font-weight: bold\">1449261.21</span> <span style=\"color: #808000; text-decoration-color: #808000\">rows</span>=<span style=\"color: #008080; text-decoration-color: #008080; font-weight: bold\">20</span> <span style=\"color: #808000; text-decoration-color: #808000\">width</span>=<span style=\"color: #008080; text-decoration-color: #008080; font-weight: bold\">16</span><span style=\"font-weight: bold\">)</span> <span style=\"font-weight: bold\">(</span>actual <span style=\"color: #808000; text-decoration-color: #808000\">time</span>=<span style=\"color: #008080; text-decoration-color: #008080; font-weight: bold\">3165.938</span>..<span style=\"color: #008080; text-decoration-color: #008080; font-weight: bold\">3185.807</span> <span style=\"color: #808000; text-decoration-color: #808000\">rows</span>=<span style=\"color: #008080; text-decoration-color: #008080; font-weight: bold\">20</span> <span style=\"color: #808000; text-decoration-color: #808000\">loops</span>=<span style=\"color: #008080; text-decoration-color: #008080; font-weight: bold\">1</span><span style=\"font-weight: bold\">)</span>\n",
       "  -&gt;  Gather Merge  <span style=\"font-weight: bold\">(</span><span style=\"color: #808000; text-decoration-color: #808000\">cost</span>=<span style=\"color: #008080; text-decoration-color: #008080; font-weight: bold\">1449258.88</span>..<span style=\"color: #008080; text-decoration-color: #008080; font-weight: bold\">1648020.72</span> <span style=\"color: #808000; text-decoration-color: #808000\">rows</span>=<span style=\"color: #008080; text-decoration-color: #008080; font-weight: bold\">1703554</span> <span style=\"color: #808000; text-decoration-color: #808000\">width</span>=<span style=\"color: #008080; text-decoration-color: #008080; font-weight: bold\">16</span><span style=\"font-weight: bold\">)</span> <span style=\"font-weight: bold\">(</span>actual <span style=\"color: #808000; text-decoration-color: #808000\">time</span>=<span style=\"color: #008080; text-decoration-color: #008080; font-weight: bold\">3109.519</span>..<span style=\"color: #008080; text-decoration-color: #008080; font-weight: bold\">3129.384</span> <span style=\"color: #808000; text-decoration-color: #808000\">rows</span>=<span style=\"color: #008080; text-decoration-color: #008080; font-weight: bold\">20</span> \n",
       "<span style=\"color: #808000; text-decoration-color: #808000\">loops</span>=<span style=\"color: #008080; text-decoration-color: #008080; font-weight: bold\">1</span><span style=\"font-weight: bold\">)</span>\n",
       "        Workers Planned: <span style=\"color: #008080; text-decoration-color: #008080; font-weight: bold\">2</span>\n",
       "        Workers Launched: <span style=\"color: #008080; text-decoration-color: #008080; font-weight: bold\">2</span>\n",
       "        -&gt;  Sort  <span style=\"font-weight: bold\">(</span><span style=\"color: #808000; text-decoration-color: #808000\">cost</span>=<span style=\"color: #008080; text-decoration-color: #008080; font-weight: bold\">1448258.85</span>..<span style=\"color: #008080; text-decoration-color: #008080; font-weight: bold\">1450388.30</span> <span style=\"color: #808000; text-decoration-color: #808000\">rows</span>=<span style=\"color: #008080; text-decoration-color: #008080; font-weight: bold\">851777</span> <span style=\"color: #808000; text-decoration-color: #808000\">width</span>=<span style=\"color: #008080; text-decoration-color: #008080; font-weight: bold\">16</span><span style=\"font-weight: bold\">)</span> <span style=\"font-weight: bold\">(</span>actual <span style=\"color: #808000; text-decoration-color: #808000\">time</span>=<span style=\"color: #008080; text-decoration-color: #008080; font-weight: bold\">3084.792</span>..<span style=\"color: #008080; text-decoration-color: #008080; font-weight: bold\">3084.795</span> <span style=\"color: #808000; text-decoration-color: #808000\">rows</span>=<span style=\"color: #008080; text-decoration-color: #008080; font-weight: bold\">17</span> \n",
       "<span style=\"color: #808000; text-decoration-color: #808000\">loops</span>=<span style=\"color: #008080; text-decoration-color: #008080; font-weight: bold\">3</span><span style=\"font-weight: bold\">)</span>\n",
       "              Sort Key: wrote_at\n",
       "              Sort Method: top-N heapsort  Memory: 26kB\n",
       "              Worker <span style=\"color: #008080; text-decoration-color: #008080; font-weight: bold\">0</span>:  Sort Method: top-N heapsort  Memory: 26kB\n",
       "              Worker <span style=\"color: #008080; text-decoration-color: #008080; font-weight: bold\">1</span>:  Sort Method: top-N heapsort  Memory: 26kB\n",
       "              -&gt;  Parallel Seq Scan on books_review  <span style=\"font-weight: bold\">(</span><span style=\"color: #808000; text-decoration-color: #808000\">cost</span>=<span style=\"color: #008080; text-decoration-color: #008080; font-weight: bold\">0.00</span>..<span style=\"color: #008080; text-decoration-color: #008080; font-weight: bold\">1425593.38</span> <span style=\"color: #808000; text-decoration-color: #808000\">rows</span>=<span style=\"color: #008080; text-decoration-color: #008080; font-weight: bold\">851777</span> <span style=\"color: #808000; text-decoration-color: #808000\">width</span>=<span style=\"color: #008080; text-decoration-color: #008080; font-weight: bold\">16</span><span style=\"font-weight: bold\">)</span> <span style=\"font-weight: bold\">(</span>actual \n",
       "<span style=\"color: #808000; text-decoration-color: #808000\">time</span>=<span style=\"color: #008080; text-decoration-color: #008080; font-weight: bold\">80.984</span>..<span style=\"color: #008080; text-decoration-color: #008080; font-weight: bold\">2958.591</span> <span style=\"color: #808000; text-decoration-color: #808000\">rows</span>=<span style=\"color: #008080; text-decoration-color: #008080; font-weight: bold\">668891</span> <span style=\"color: #808000; text-decoration-color: #808000\">loops</span>=<span style=\"color: #008080; text-decoration-color: #008080; font-weight: bold\">3</span><span style=\"font-weight: bold\">)</span>\n",
       "                    Filter: <span style=\"font-weight: bold\">(</span>library_id = <span style=\"color: #008080; text-decoration-color: #008080; font-weight: bold\">6</span><span style=\"font-weight: bold\">)</span>\n",
       "                    Rows Removed by Filter: <span style=\"color: #008080; text-decoration-color: #008080; font-weight: bold\">12666173</span>\n",
       "Planning Time: <span style=\"color: #008080; text-decoration-color: #008080; font-weight: bold\">0.119</span> ms\n",
       "JIT:\n",
       "  Functions: <span style=\"color: #008080; text-decoration-color: #008080; font-weight: bold\">13</span>\n",
       "  Options: Inlining true, Optimization true, Expressions true, Deforming true\n",
       "  Timing: Generation <span style=\"color: #008080; text-decoration-color: #008080; font-weight: bold\">2.719</span> ms, Inlining <span style=\"color: #008080; text-decoration-color: #008080; font-weight: bold\">165.461</span> ms, Optimization <span style=\"color: #008080; text-decoration-color: #008080; font-weight: bold\">83.760</span> ms, Emission <span style=\"color: #008080; text-decoration-color: #008080; font-weight: bold\">49.940</span> ms, Total <span style=\"color: #008080; text-decoration-color: #008080; font-weight: bold\">301.881</span> ms\n",
       "Execution Time: <span style=\"color: #008080; text-decoration-color: #008080; font-weight: bold\">3186.674</span> ms\n",
       "</pre>\n"
      ],
      "text/plain": [
       "Limit  \u001b[1m(\u001b[0m\u001b[33mcost\u001b[0m=\u001b[1;36m1449258\u001b[0m\u001b[1;36m.88\u001b[0m..\u001b[1;36m1449261.21\u001b[0m \u001b[33mrows\u001b[0m=\u001b[1;36m20\u001b[0m \u001b[33mwidth\u001b[0m=\u001b[1;36m16\u001b[0m\u001b[1m)\u001b[0m \u001b[1m(\u001b[0mactual \u001b[33mtime\u001b[0m=\u001b[1;36m3165\u001b[0m\u001b[1;36m.938\u001b[0m..\u001b[1;36m3185.807\u001b[0m \u001b[33mrows\u001b[0m=\u001b[1;36m20\u001b[0m \u001b[33mloops\u001b[0m=\u001b[1;36m1\u001b[0m\u001b[1m)\u001b[0m\n",
       "  ->  Gather Merge  \u001b[1m(\u001b[0m\u001b[33mcost\u001b[0m=\u001b[1;36m1449258\u001b[0m\u001b[1;36m.88\u001b[0m..\u001b[1;36m1648020.72\u001b[0m \u001b[33mrows\u001b[0m=\u001b[1;36m1703554\u001b[0m \u001b[33mwidth\u001b[0m=\u001b[1;36m16\u001b[0m\u001b[1m)\u001b[0m \u001b[1m(\u001b[0mactual \u001b[33mtime\u001b[0m=\u001b[1;36m3109\u001b[0m\u001b[1;36m.519\u001b[0m..\u001b[1;36m3129.384\u001b[0m \u001b[33mrows\u001b[0m=\u001b[1;36m20\u001b[0m \n",
       "\u001b[33mloops\u001b[0m=\u001b[1;36m1\u001b[0m\u001b[1m)\u001b[0m\n",
       "        Workers Planned: \u001b[1;36m2\u001b[0m\n",
       "        Workers Launched: \u001b[1;36m2\u001b[0m\n",
       "        ->  Sort  \u001b[1m(\u001b[0m\u001b[33mcost\u001b[0m=\u001b[1;36m1448258\u001b[0m\u001b[1;36m.85\u001b[0m..\u001b[1;36m1450388.30\u001b[0m \u001b[33mrows\u001b[0m=\u001b[1;36m851777\u001b[0m \u001b[33mwidth\u001b[0m=\u001b[1;36m16\u001b[0m\u001b[1m)\u001b[0m \u001b[1m(\u001b[0mactual \u001b[33mtime\u001b[0m=\u001b[1;36m3084\u001b[0m\u001b[1;36m.792\u001b[0m..\u001b[1;36m3084.795\u001b[0m \u001b[33mrows\u001b[0m=\u001b[1;36m17\u001b[0m \n",
       "\u001b[33mloops\u001b[0m=\u001b[1;36m3\u001b[0m\u001b[1m)\u001b[0m\n",
       "              Sort Key: wrote_at\n",
       "              Sort Method: top-N heapsort  Memory: 26kB\n",
       "              Worker \u001b[1;36m0\u001b[0m:  Sort Method: top-N heapsort  Memory: 26kB\n",
       "              Worker \u001b[1;36m1\u001b[0m:  Sort Method: top-N heapsort  Memory: 26kB\n",
       "              ->  Parallel Seq Scan on books_review  \u001b[1m(\u001b[0m\u001b[33mcost\u001b[0m=\u001b[1;36m0\u001b[0m\u001b[1;36m.00\u001b[0m..\u001b[1;36m1425593.38\u001b[0m \u001b[33mrows\u001b[0m=\u001b[1;36m851777\u001b[0m \u001b[33mwidth\u001b[0m=\u001b[1;36m16\u001b[0m\u001b[1m)\u001b[0m \u001b[1m(\u001b[0mactual \n",
       "\u001b[33mtime\u001b[0m=\u001b[1;36m80\u001b[0m\u001b[1;36m.984\u001b[0m..\u001b[1;36m2958.591\u001b[0m \u001b[33mrows\u001b[0m=\u001b[1;36m668891\u001b[0m \u001b[33mloops\u001b[0m=\u001b[1;36m3\u001b[0m\u001b[1m)\u001b[0m\n",
       "                    Filter: \u001b[1m(\u001b[0mlibrary_id = \u001b[1;36m6\u001b[0m\u001b[1m)\u001b[0m\n",
       "                    Rows Removed by Filter: \u001b[1;36m12666173\u001b[0m\n",
       "Planning Time: \u001b[1;36m0.119\u001b[0m ms\n",
       "JIT:\n",
       "  Functions: \u001b[1;36m13\u001b[0m\n",
       "  Options: Inlining true, Optimization true, Expressions true, Deforming true\n",
       "  Timing: Generation \u001b[1;36m2.719\u001b[0m ms, Inlining \u001b[1;36m165.461\u001b[0m ms, Optimization \u001b[1;36m83.760\u001b[0m ms, Emission \u001b[1;36m49.940\u001b[0m ms, Total \u001b[1;36m301.881\u001b[0m ms\n",
       "Execution Time: \u001b[1;36m3186.674\u001b[0m ms\n"
      ]
     },
     "metadata": {},
     "output_type": "display_data"
    },
    {
     "data": {
      "text/html": [
       "<pre style=\"white-space:pre;overflow-x:auto;line-height:normal;font-family:Menlo,'DejaVu Sans Mono',consolas,'Courier New',monospace\"><span style=\"color: #00ff00; text-decoration-color: #00ff00\">───────────────────────────────────────────────────────────────────────────────────────────────────────────────────</span>\n",
       "</pre>\n"
      ],
      "text/plain": [
       "\u001b[92m───────────────────────────────────────────────────────────────────────────────────────────────────────────────────\u001b[0m\n"
      ]
     },
     "metadata": {},
     "output_type": "display_data"
    },
    {
     "data": {
      "text/html": [
       "<pre style=\"white-space:pre;overflow-x:auto;line-height:normal;font-family:Menlo,'DejaVu Sans Mono',consolas,'Courier New',monospace\"><span style=\"color: #800080; text-decoration-color: #800080; font-style: italic\">None</span>\n",
       "</pre>\n"
      ],
      "text/plain": [
       "\u001b[3;35mNone\u001b[0m\n"
      ]
     },
     "metadata": {},
     "output_type": "display_data"
    }
   ],
   "source": [
    "explain_qs(alexandria_id, \"wrote_at\")"
   ]
  },
  {
   "cell_type": "code",
   "execution_count": null,
   "metadata": {},
   "outputs": [],
   "source": [
    "from utils.sql import indexes_size\n",
    "indexes_size()"
   ]
  }
 ],
 "metadata": {
  "kernelspec": {
   "display_name": "django-perfs-playground-tFy-cSse",
   "language": "python",
   "name": "python3"
  },
  "language_info": {
   "codemirror_mode": {
    "name": "ipython",
    "version": 3
   },
   "file_extension": ".py",
   "mimetype": "text/x-python",
   "name": "python",
   "nbconvert_exporter": "python",
   "pygments_lexer": "ipython3",
   "version": "3.10.5"
  },
  "orig_nbformat": 4
 },
 "nbformat": 4,
 "nbformat_minor": 2
}
