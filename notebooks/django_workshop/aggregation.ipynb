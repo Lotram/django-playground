{
 "cells": [
  {
   "cell_type": "code",
   "execution_count": null,
   "metadata": {},
   "outputs": [],
   "source": [
    "import os\n",
    "os.chdir(\"../..\")\n",
    "import django_init\n"
   ]
  },
  {
   "cell_type": "code",
   "execution_count": null,
   "metadata": {},
   "outputs": [],
   "source": [
    "# For better printing\n",
    "\n",
    "from rich import print\n",
    "from rich.console import Console\n",
    "from rich.markdown import Markdown\n",
    "\n",
    "console = Console()"
   ]
  },
  {
   "cell_type": "code",
   "execution_count": null,
   "metadata": {},
   "outputs": [],
   "source": [
    "from utils.perf_display import format_duration, perf_counter"
   ]
  },
  {
   "cell_type": "code",
   "execution_count": null,
   "metadata": {},
   "outputs": [],
   "source": [
    "from books.models import Library, Review, Book\n",
    "from django.db.models import Count\n",
    "\n",
    "medium = Library.objects.order_by(\"-id\").first()\n",
    "medium_id = medium.id\n",
    "\n",
    "# Get the library with the most books\n",
    "alexandria_id, book_count = (\n",
    "    Book.objects.values(\"library_id\")\n",
    "    .annotate(book_count=Count(\"id\"))\n",
    "    .order_by(\"-book_count\")\n",
    "    .values_list(\"library_id\", \"book_count\")\n",
    "    .first()\n",
    ")\n",
    "\n",
    "alexandria = Library.objects.get(id=alexandria_id)"
   ]
  },
  {
   "attachments": {},
   "cell_type": "markdown",
   "metadata": {},
   "source": [
    "Let's continue with another book endpoint: \n",
    "This time we want to retrieve paginated list of books, containing some additional information: the list of related tags, and count of reviews\n",
    "A minimal implementation is available in [this file](\"../../../../books/views/book/list_books_aggregate.py). "
   ]
  },
  {
   "cell_type": "code",
   "execution_count": null,
   "metadata": {},
   "outputs": [],
   "source": []
  }
 ],
 "metadata": {
  "language_info": {
   "name": "python"
  },
  "orig_nbformat": 4
 },
 "nbformat": 4,
 "nbformat_minor": 2
}
